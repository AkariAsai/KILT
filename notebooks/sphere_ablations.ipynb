{
 "cells": [
  {
   "cell_type": "code",
   "execution_count": 25,
   "id": "747cee8c",
   "metadata": {},
   "outputs": [],
   "source": [
    "import numpy as np\n",
    "import pandas as pd"
   ]
  },
  {
   "cell_type": "code",
   "execution_count": 26,
   "id": "9011c15e",
   "metadata": {},
   "outputs": [],
   "source": [
    "columns = [\"dataset\", \"model\", \"k\", \"em\"]\n",
    "trex =[\n",
    "    (\"trex\", \"dpr\", 100, 50.12),\n",
    "    (\"trex\", \"dpr\", 20, 48.36),\n",
    "    (\"trex\", \"dpr\", 5, 46.16),\n",
    "    (\"trex\", \"dpr\", 1, 42.94),\n",
    "    (\"trex\", \"dpr_new\", 100, 54.82),\n",
    "    (\"trex\", \"dpr_new\", 20, 54.02),\n",
    "    (\"trex\", \"dpr_new\", 5, 51.80),\n",
    "    (\"trex\", \"dpr_new\", 1, 48.52),\n",
    "    (\"trex\", \"bm25\", 100, 59.94),\n",
    "    (\"trex\", \"bm25\", 20, 58.02),\n",
    "    (\"trex\", \"bm25\", 5, 53.5),\n",
    "    (\"trex\", \"bm25\", 1, 47.72),\n",
    "]"
   ]
  },
  {
   "cell_type": "code",
   "execution_count": 27,
   "id": "63de730c",
   "metadata": {},
   "outputs": [
    {
     "data": {
      "text/html": [
       "<div>\n",
       "<style scoped>\n",
       "    .dataframe tbody tr th:only-of-type {\n",
       "        vertical-align: middle;\n",
       "    }\n",
       "\n",
       "    .dataframe tbody tr th {\n",
       "        vertical-align: top;\n",
       "    }\n",
       "\n",
       "    .dataframe thead th {\n",
       "        text-align: right;\n",
       "    }\n",
       "</style>\n",
       "<table border=\"1\" class=\"dataframe\">\n",
       "  <thead>\n",
       "    <tr style=\"text-align: right;\">\n",
       "      <th></th>\n",
       "      <th>dataset</th>\n",
       "      <th>model</th>\n",
       "      <th>k</th>\n",
       "      <th>em</th>\n",
       "    </tr>\n",
       "  </thead>\n",
       "  <tbody>\n",
       "    <tr>\n",
       "      <th>0</th>\n",
       "      <td>trex</td>\n",
       "      <td>dpr</td>\n",
       "      <td>100</td>\n",
       "      <td>50.12</td>\n",
       "    </tr>\n",
       "    <tr>\n",
       "      <th>1</th>\n",
       "      <td>trex</td>\n",
       "      <td>dpr</td>\n",
       "      <td>20</td>\n",
       "      <td>48.36</td>\n",
       "    </tr>\n",
       "    <tr>\n",
       "      <th>2</th>\n",
       "      <td>trex</td>\n",
       "      <td>dpr</td>\n",
       "      <td>5</td>\n",
       "      <td>46.16</td>\n",
       "    </tr>\n",
       "    <tr>\n",
       "      <th>3</th>\n",
       "      <td>trex</td>\n",
       "      <td>dpr</td>\n",
       "      <td>1</td>\n",
       "      <td>42.94</td>\n",
       "    </tr>\n",
       "    <tr>\n",
       "      <th>4</th>\n",
       "      <td>trex</td>\n",
       "      <td>dpr_new</td>\n",
       "      <td>100</td>\n",
       "      <td>54.82</td>\n",
       "    </tr>\n",
       "    <tr>\n",
       "      <th>5</th>\n",
       "      <td>trex</td>\n",
       "      <td>dpr_new</td>\n",
       "      <td>20</td>\n",
       "      <td>54.02</td>\n",
       "    </tr>\n",
       "    <tr>\n",
       "      <th>6</th>\n",
       "      <td>trex</td>\n",
       "      <td>dpr_new</td>\n",
       "      <td>5</td>\n",
       "      <td>51.80</td>\n",
       "    </tr>\n",
       "    <tr>\n",
       "      <th>7</th>\n",
       "      <td>trex</td>\n",
       "      <td>dpr_new</td>\n",
       "      <td>1</td>\n",
       "      <td>48.52</td>\n",
       "    </tr>\n",
       "    <tr>\n",
       "      <th>8</th>\n",
       "      <td>trex</td>\n",
       "      <td>bm25</td>\n",
       "      <td>100</td>\n",
       "      <td>59.94</td>\n",
       "    </tr>\n",
       "    <tr>\n",
       "      <th>9</th>\n",
       "      <td>trex</td>\n",
       "      <td>bm25</td>\n",
       "      <td>20</td>\n",
       "      <td>58.02</td>\n",
       "    </tr>\n",
       "    <tr>\n",
       "      <th>10</th>\n",
       "      <td>trex</td>\n",
       "      <td>bm25</td>\n",
       "      <td>5</td>\n",
       "      <td>53.50</td>\n",
       "    </tr>\n",
       "    <tr>\n",
       "      <th>11</th>\n",
       "      <td>trex</td>\n",
       "      <td>bm25</td>\n",
       "      <td>1</td>\n",
       "      <td>47.72</td>\n",
       "    </tr>\n",
       "  </tbody>\n",
       "</table>\n",
       "</div>"
      ],
      "text/plain": [
       "   dataset    model    k     em\n",
       "0     trex      dpr  100  50.12\n",
       "1     trex      dpr   20  48.36\n",
       "2     trex      dpr    5  46.16\n",
       "3     trex      dpr    1  42.94\n",
       "4     trex  dpr_new  100  54.82\n",
       "5     trex  dpr_new   20  54.02\n",
       "6     trex  dpr_new    5  51.80\n",
       "7     trex  dpr_new    1  48.52\n",
       "8     trex     bm25  100  59.94\n",
       "9     trex     bm25   20  58.02\n",
       "10    trex     bm25    5  53.50\n",
       "11    trex     bm25    1  47.72"
      ]
     },
     "execution_count": 27,
     "metadata": {},
     "output_type": "execute_result"
    }
   ],
   "source": [
    "results = pd.DataFrame(trex,  columns=columns)\n",
    "results"
   ]
  },
  {
   "cell_type": "code",
   "execution_count": 28,
   "id": "307f8553",
   "metadata": {},
   "outputs": [
    {
     "data": {
      "text/plain": [
       "<AxesSubplot:xlabel='k'>"
      ]
     },
     "execution_count": 28,
     "metadata": {},
     "output_type": "execute_result"
    },
    {
     "data": {
      "image/png": "[encoded data removed]",
      "text/plain": [
       "<Figure size 432x288 with 1 Axes>"
      ]
     },
     "metadata": {
      "needs_background": "light"
     },
     "output_type": "display_data"
    }
   ],
   "source": [
    "results.pivot(index=\"k\", columns=[\"dataset\", \"model\"], values='em').plot()"
   ]
  },
  {
   "cell_type": "code",
   "execution_count": null,
   "id": "06b4292f",
   "metadata": {},
   "outputs": [],
   "source": [
    "zeroshot_re =[\n",
    "    (\"zeroshot_re\", \"dpr\", 100, 50.12),\n",
    "    (\"zeroshot_re\", \"dpr\", 20, 48.36),\n",
    "    (\"zeroshot_re\", \"dpr\", 5, 46.16),\n",
    "    (\"zeroshot_re\", \"dpr\", 1, 42.94),\n",
    "    (\"zeroshot_re\", \"dpr_new\", 100, 54.82),\n",
    "    (\"zeroshot_re\", \"dpr_new\", 20, 54.02),\n",
    "    (\"zeroshot_re\", \"dpr_new\", 5, 51.80),\n",
    "    (\"zeroshot_re\", \"dpr_new\", 1, 48.52),\n",
    "    (\"zeroshot_re\", \"bm25\", 100, 59.94),\n",
    "    (\"zeroshot_re\", \"bm25\", 20, 58.02),\n",
    "    (\"zeroshot_re\", \"bm25\", 5, 53.5),\n",
    "    (\"zeroshot_re\", \"bm25\", 1, 47.72),\n",
    "]"
   ]
  }
 ],
 "metadata": {
  "kernelspec": {
   "display_name": "Python 3",
   "language": "python",
   "name": "python3"
  },
  "language_info": {
   "codemirror_mode": {
    "name": "ipython",
    "version": 3
   },
   "file_extension": ".py",
   "mimetype": "text/x-python",
   "name": "python",
   "nbconvert_exporter": "python",
   "pygments_lexer": "ipython3",
   "version": "3.7.10"
  },
  "toc": {
   "base_numbering": 1,
   "nav_menu": {},
   "number_sections": true,
   "sideBar": true,
   "skip_h1_title": false,
   "title_cell": "Table of Contents",
   "title_sidebar": "Contents",
   "toc_cell": false,
   "toc_position": {},
   "toc_section_display": true,
   "toc_window_display": false
  }
 },
 "nbformat": 4,
 "nbformat_minor": 5
}
